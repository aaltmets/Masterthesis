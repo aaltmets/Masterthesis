{
  "nbformat": 4,
  "nbformat_minor": 0,
  "metadata": {
    "colab": {
      "provenance": [],
      "authorship_tag": "ABX9TyNi8JY8jNytRxpwx324a3TG",
      "include_colab_link": true
    },
    "kernelspec": {
      "name": "python3",
      "display_name": "Python 3"
    },
    "language_info": {
      "name": "python"
    }
  },
  "cells": [
    {
      "cell_type": "markdown",
      "metadata": {
        "id": "view-in-github",
        "colab_type": "text"
      },
      "source": [
        "<a href=\"https://colab.research.google.com/github/aaltmets/Masterthesis/blob/main/mergetables.ipynb\" target=\"_parent\"><img src=\"https://colab.research.google.com/assets/colab-badge.svg\" alt=\"Open In Colab\"/></a>"
      ]
    },
    {
      "cell_type": "code",
      "execution_count": null,
      "metadata": {
        "id": "wWUaFA_q7QVv"
      },
      "outputs": [],
      "source": [
        "import os\n",
        "import time\n",
        "\n",
        "# data science imports\n",
        "import math\n",
        "import numpy as np\n",
        "import pandas as pd\n",
        "from scipy.sparse import csr_matrix\n",
        "from sklearn.neighbors import NearestNeighbors\n",
        "\n",
        "# visualization imports\n",
        "import seaborn as sns\n",
        "import matplotlib.pyplot as plt\n",
        "plt.style.use('ggplot')\n",
        "\n",
        "%matplotlib inline"
      ]
    },
    {
      "cell_type": "markdown",
      "source": [
        "Data is from June 2022 - January 2023. Keywords 'covid travel' \n",
        "Dataframe shape is 86150 \n",
        "\n",
        "Currently I have removed duplicate tweets with dupliucate text and tweet ID. \n",
        "\n",
        "I created histograms "
      ],
      "metadata": {
        "id": "_4PGT4pdzKMq"
      }
    },
    {
      "cell_type": "code",
      "source": [
        "df = pd.read_csv('filename.csv', index_col=False)"
      ],
      "metadata": {
        "id": "1zBEP1Sf7f3S"
      },
      "execution_count": null,
      "outputs": []
    },
    {
      "cell_type": "code",
      "source": [
        "df['tweet_id'] = df['tweet_id'].astype(int)"
      ],
      "metadata": {
        "id": "z4MiI1EAOsUs"
      },
      "execution_count": null,
      "outputs": []
    },
    {
      "cell_type": "code",
      "source": [
        "df1 = pd.read_csv('file2.csv', index_col=False)"
      ],
      "metadata": {
        "id": "qDT4evIA7ugt"
      },
      "execution_count": null,
      "outputs": []
    },
    {
      "cell_type": "code",
      "source": [
        "df1['tweet_id'].fillna(0, inplace=True)"
      ],
      "metadata": {
        "id": "f89LwNrqdYdQ"
      },
      "execution_count": null,
      "outputs": []
    },
    {
      "cell_type": "code",
      "source": [
        "df1['tweet_id'] = df1['tweet_id'].astype(int)"
      ],
      "metadata": {
        "id": "Hd3r1n1KdcIE"
      },
      "execution_count": null,
      "outputs": []
    },
    {
      "cell_type": "code",
      "source": [
        "pd.set_option('display.max_columns', None)"
      ],
      "metadata": {
        "id": "kyVw36gRatMr"
      },
      "execution_count": null,
      "outputs": []
    },
    {
      "cell_type": "code",
      "source": [
        "df2 = pd.read_csv('file3.csv')"
      ],
      "metadata": {
        "id": "q3ezRp2t7_Gl"
      },
      "execution_count": null,
      "outputs": []
    },
    {
      "cell_type": "code",
      "source": [
        "df3 = pd.read_csv('filename3.csv', index_col=False)"
      ],
      "metadata": {
        "id": "ghPqBiv5eEAL"
      },
      "execution_count": null,
      "outputs": []
    },
    {
      "cell_type": "code",
      "source": [
        "df3['tweet_id'].fillna(0, inplace=True)\n",
        "df3['tweet_id'] = df3['tweet_id'].astype(int)"
      ],
      "metadata": {
        "id": "Rsov48S8eQr3"
      },
      "execution_count": null,
      "outputs": []
    },
    {
      "cell_type": "code",
      "source": [
        "df4 = pd.read_csv('file5.csv', index_col=False)"
      ],
      "metadata": {
        "id": "Dz7aalHs77Rj"
      },
      "execution_count": null,
      "outputs": []
    },
    {
      "cell_type": "code",
      "source": [
        "df4['tweet_id'].fillna(0, inplace=True)\n",
        "df4['tweet_id'] = df4['tweet_id'].astype(int)"
      ],
      "metadata": {
        "id": "I9vf42wqe7Lk"
      },
      "execution_count": null,
      "outputs": []
    },
    {
      "cell_type": "code",
      "source": [
        "df5 = pd.read_csv('file6.csv', index_col=False)"
      ],
      "metadata": {
        "id": "kf-3xq5hfDvL"
      },
      "execution_count": null,
      "outputs": []
    },
    {
      "cell_type": "code",
      "source": [
        "df6 = pd.read_csv('file7.csv', index_col=False)"
      ],
      "metadata": {
        "colab": {
          "base_uri": "https://localhost:8080/"
        },
        "id": "9IdWH3FzfyMH",
        "outputId": "6a81e5e5-bfe9-42cb-f03b-56a5a750e94a"
      },
      "execution_count": null,
      "outputs": [
        {
          "output_type": "stream",
          "name": "stderr",
          "text": [
            "<ipython-input-28-81316f59b780>:1: DtypeWarning: Columns (0,1,2,3,4,5,6,7,8,9,11,12,14,15,16,22,23) have mixed types. Specify dtype option on import or set low_memory=False.\n",
            "  df6 = pd.read_csv('covidtravel.csv', index_col=False)\n"
          ]
        }
      ]
    },
    {
      "cell_type": "code",
      "source": [
        "df6['tweet_id'].fillna(0, inplace=True)\n",
        "df6['tweet_id'] = df6['tweet_id'].astype(int)"
      ],
      "metadata": {
        "id": "Xp40P-4zgnOL"
      },
      "execution_count": null,
      "outputs": []
    },
    {
      "cell_type": "code",
      "source": [
        "frames = [df, df1, df2, df3, df4, df5, df6]\n",
        "result = pd.concat(frames)"
      ],
      "metadata": {
        "id": "kKv4n8N9gwBD"
      },
      "execution_count": null,
      "outputs": []
    },
    {
      "cell_type": "code",
      "source": [
        "result.shape"
      ],
      "metadata": {
        "colab": {
          "base_uri": "https://localhost:8080/"
        },
        "id": "TLoXQxwvhwQe",
        "outputId": "6c22a932-5b84-4624-bfa1-7f9c6a1a68d8"
      },
      "execution_count": null,
      "outputs": [
        {
          "output_type": "execute_result",
          "data": {
            "text/plain": [
              "(237033, 24)"
            ]
          },
          "metadata": {},
          "execution_count": 35
        }
      ]
    },
    {
      "cell_type": "code",
      "source": [
        "result = result.drop_duplicates(subset=['tweet_id'])"
      ],
      "metadata": {
        "id": "vrI6ePWii9lo"
      },
      "execution_count": null,
      "outputs": []
    },
    {
      "cell_type": "code",
      "source": [
        "result.shape"
      ],
      "metadata": {
        "colab": {
          "base_uri": "https://localhost:8080/"
        },
        "id": "WXEUFAIti-_2",
        "outputId": "5db51e5a-8ebc-4d35-f1a1-b8d70debc002"
      },
      "execution_count": null,
      "outputs": [
        {
          "output_type": "execute_result",
          "data": {
            "text/plain": [
              "(87117, 24)"
            ]
          },
          "metadata": {},
          "execution_count": 38
        }
      ]
    },
    {
      "cell_type": "code",
      "source": [
        "df7 = pd.read_excel('virus.xlsx')"
      ],
      "metadata": {
        "id": "blgzxGxpk3J-"
      },
      "execution_count": null,
      "outputs": []
    },
    {
      "cell_type": "code",
      "source": [
        "df7['tweet_id'].fillna(0, inplace=True)\n",
        "df7['tweet_id'] = df7['tweet_id'].astype(int)"
      ],
      "metadata": {
        "id": "8KgaDqLKk7xX"
      },
      "execution_count": null,
      "outputs": []
    },
    {
      "cell_type": "code",
      "source": [
        "df8 = pd.read_excel('covidtravelone.xlsx')"
      ],
      "metadata": {
        "id": "-AImUkzZmFbh"
      },
      "execution_count": null,
      "outputs": []
    },
    {
      "cell_type": "code",
      "source": [
        "df8['tweet_id'].fillna(0, inplace=True)\n",
        "df8['tweet_id'] = df8['tweet_id'].astype(int)"
      ],
      "metadata": {
        "id": "7CVma59OmQOc"
      },
      "execution_count": null,
      "outputs": []
    },
    {
      "cell_type": "code",
      "source": [
        "df9 = pd.read_excel('coronavirustravel.xlsx')"
      ],
      "metadata": {
        "id": "3g0E161xmYft"
      },
      "execution_count": null,
      "outputs": []
    },
    {
      "cell_type": "code",
      "source": [
        "df9['tweet_id'].fillna(0, inplace=True)\n",
        "df9['tweet_id'] = df9['tweet_id'].astype(int)"
      ],
      "metadata": {
        "id": "Qx2Lw3jHmd84"
      },
      "execution_count": null,
      "outputs": []
    },
    {
      "cell_type": "code",
      "source": [
        "frames = [result, df7, df8, df9]\n",
        "result = pd.concat(frames)"
      ],
      "metadata": {
        "id": "bHWHJ_4fmtKk"
      },
      "execution_count": null,
      "outputs": []
    },
    {
      "cell_type": "code",
      "source": [
        "result.shape"
      ],
      "metadata": {
        "colab": {
          "base_uri": "https://localhost:8080/"
        },
        "id": "M3WsT66Um0HI",
        "outputId": "04196ed5-7e81-4bc4-a490-6b7ebc778ee8"
      },
      "execution_count": null,
      "outputs": [
        {
          "output_type": "execute_result",
          "data": {
            "text/plain": [
              "(132265, 25)"
            ]
          },
          "metadata": {},
          "execution_count": 50
        }
      ]
    },
    {
      "cell_type": "code",
      "source": [
        "result = result.drop_duplicates(subset=['tweet_id'])"
      ],
      "metadata": {
        "id": "PSqtKVV_m2Fh"
      },
      "execution_count": null,
      "outputs": []
    },
    {
      "cell_type": "code",
      "source": [
        "result.shape"
      ],
      "metadata": {
        "colab": {
          "base_uri": "https://localhost:8080/"
        },
        "id": "AGeax2Grm5qh",
        "outputId": "94b79e95-b99b-48bc-cc5f-ccb7cf7b899b"
      },
      "execution_count": null,
      "outputs": [
        {
          "output_type": "execute_result",
          "data": {
            "text/plain": [
              "(127059, 25)"
            ]
          },
          "metadata": {},
          "execution_count": 52
        }
      ]
    },
    {
      "cell_type": "code",
      "source": [
        "result.to_csv('all_data.csv')"
      ],
      "metadata": {
        "id": "7pRlmr8Nm77i"
      },
      "execution_count": null,
      "outputs": []
    },
    {
      "cell_type": "code",
      "source": [
        "result['retweets'] = result['retweets'].fillna(0)"
      ],
      "metadata": {
        "id": "QjIWq0VZpe1N"
      },
      "execution_count": null,
      "outputs": []
    },
    {
      "cell_type": "code",
      "source": [
        "result['replies'] = result['replies'].fillna(0)\n",
        "result['likes'] = result['likes'].fillna(0)"
      ],
      "metadata": {
        "id": "WIlb5lO8plXy"
      },
      "execution_count": null,
      "outputs": []
    },
    {
      "cell_type": "code",
      "source": [
        "\n",
        "\n",
        "result['retweets'] = result['retweets'].astype(int)\n"
      ],
      "metadata": {
        "id": "jKoH0lORnb5N"
      },
      "execution_count": null,
      "outputs": []
    },
    {
      "cell_type": "code",
      "source": [
        "result['replies'] = result['replies'].astype(int)\n",
        "\n",
        "result['likes'] = result['likes'].astype(int)"
      ],
      "metadata": {
        "id": "C7auUv3Tpu80"
      },
      "execution_count": null,
      "outputs": []
    },
    {
      "cell_type": "code",
      "source": [
        "plt.hist(result['retweets'], edgecolor='black', range=[0, 30], bins = 5)\n"
      ],
      "metadata": {
        "colab": {
          "base_uri": "https://localhost:8080/",
          "height": 484
        },
        "id": "ABBFBgDVp6Rq",
        "outputId": "455c0570-b0aa-4bea-e6e8-0ed1edb33fd2"
      },
      "execution_count": null,
      "outputs": [
        {
          "output_type": "execute_result",
          "data": {
            "text/plain": [
              "(array([123179.,   1995.,    616.,    313.,    216.]),\n",
              " array([ 0.,  6., 12., 18., 24., 30.]),\n",
              " <BarContainer object of 5 artists>)"
            ]
          },
          "metadata": {},
          "execution_count": 59
        },
        {
          "output_type": "display_data",
          "data": {
            "text/plain": [
              "<Figure size 640x480 with 1 Axes>"
            ],
            "image/png": "[encoded data removed]"
          },
          "metadata": {}
        }
      ]
    },
    {
      "cell_type": "code",
      "source": [
        "plt.hist(result['retweets'], edgecolor='black', range=[10, 50], bins = 10)"
      ],
      "metadata": {
        "colab": {
          "base_uri": "https://localhost:8080/",
          "height": 484
        },
        "id": "QG5b5GFuzuEp",
        "outputId": "a66cac67-7129-40b7-8e58-ea98f51aaae2"
      },
      "execution_count": null,
      "outputs": [
        {
          "output_type": "execute_result",
          "data": {
            "text/plain": [
              "(array([615., 359., 217., 173., 113.,  85.,  77.,  72.,  47.,  40.]),\n",
              " array([10., 14., 18., 22., 26., 30., 34., 38., 42., 46., 50.]),\n",
              " <BarContainer object of 10 artists>)"
            ]
          },
          "metadata": {},
          "execution_count": 60
        },
        {
          "output_type": "display_data",
          "data": {
            "text/plain": [
              "<Figure size 640x480 with 1 Axes>"
            ],
            "image/png": "[encoded data removed]"
          },
          "metadata": {}
        }
      ]
    },
    {
      "cell_type": "code",
      "source": [
        "pd.options.display.max_colwidth = 400\n",
        "retweets = result[(result['retweets'] == 50)]"
      ],
      "metadata": {
        "id": "X49IqaDshZ6I"
      },
      "execution_count": null,
      "outputs": []
    },
    {
      "cell_type": "code",
      "source": [
        "plt.hist(result['replies'], edgecolor='black', range=[0, 30], bins = 8)"
      ],
      "metadata": {
        "colab": {
          "base_uri": "https://localhost:8080/",
          "height": 501
        },
        "id": "k63mayu5rBnr",
        "outputId": "2ca17bb8-e2c9-44a2-da87-7cf5ea0f9d23"
      },
      "execution_count": null,
      "outputs": [
        {
          "output_type": "execute_result",
          "data": {
            "text/plain": [
              "(array([1.2294e+05, 2.5630e+03, 6.2400e+02, 2.4400e+02, 1.5300e+02,\n",
              "        1.0000e+02, 8.4000e+01, 5.0000e+01]),\n",
              " array([ 0.  ,  3.75,  7.5 , 11.25, 15.  , 18.75, 22.5 , 26.25, 30.  ]),\n",
              " <BarContainer object of 8 artists>)"
            ]
          },
          "metadata": {},
          "execution_count": 62
        },
        {
          "output_type": "display_data",
          "data": {
            "text/plain": [
              "<Figure size 640x480 with 1 Axes>"
            ],
            "image/png": "[encoded data removed]"
          },
          "metadata": {}
        }
      ]
    },
    {
      "cell_type": "code",
      "source": [
        "plt.hist(result['replies'], edgecolor='black', range=[10, 50], bins = 10)"
      ],
      "metadata": {
        "colab": {
          "base_uri": "https://localhost:8080/",
          "height": 484
        },
        "id": "ARrC-0Ns09wS",
        "outputId": "b9108639-da31-4479-b32d-0722706627bd"
      },
      "execution_count": null,
      "outputs": [
        {
          "output_type": "execute_result",
          "data": {
            "text/plain": [
              "(array([409., 184., 119.,  91.,  53.,  35.,  29.,  27.,  22.,  31.]),\n",
              " array([10., 14., 18., 22., 26., 30., 34., 38., 42., 46., 50.]),\n",
              " <BarContainer object of 10 artists>)"
            ]
          },
          "metadata": {},
          "execution_count": 63
        },
        {
          "output_type": "display_data",
          "data": {
            "text/plain": [
              "<Figure size 640x480 with 1 Axes>"
            ],
            "image/png": "[encoded data removed]"
          },
          "metadata": {}
        }
      ]
    },
    {
      "cell_type": "code",
      "source": [
        "pd.options.display.max_colwidth = 400 \n",
        "replies = result[(result['replies'] == 50)]"
      ],
      "metadata": {
        "id": "Fs-W52HHhVIC"
      },
      "execution_count": null,
      "outputs": []
    },
    {
      "cell_type": "code",
      "source": [
        "plt.hist(result['likes'], edgecolor='black', range=[0, 30], bins = 8)"
      ],
      "metadata": {
        "colab": {
          "base_uri": "https://localhost:8080/",
          "height": 501
        },
        "id": "KnGxi8_MrIVs",
        "outputId": "52ed0515-8390-4307-d9fd-4ae014d16c28"
      },
      "execution_count": null,
      "outputs": [
        {
          "output_type": "execute_result",
          "data": {
            "text/plain": [
              "(array([102930.,  10729.,   4139.,   1842.,   1481.,   1025.,    741.,\n",
              "           533.]),\n",
              " array([ 0.  ,  3.75,  7.5 , 11.25, 15.  , 18.75, 22.5 , 26.25, 30.  ]),\n",
              " <BarContainer object of 8 artists>)"
            ]
          },
          "metadata": {},
          "execution_count": 65
        },
        {
          "output_type": "display_data",
          "data": {
            "text/plain": [
              "<Figure size 640x480 with 1 Axes>"
            ],
            "image/png": "[encoded data removed]"
          },
          "metadata": {}
        }
      ]
    },
    {
      "cell_type": "code",
      "source": [
        "plt.hist(result['likes'], edgecolor='black', range=[10, 50], bins = 10)"
      ],
      "metadata": {
        "colab": {
          "base_uri": "https://localhost:8080/",
          "height": 501
        },
        "id": "B-1hNLOF1UqB",
        "outputId": "912d784e-eef0-49bf-d5c7-7e251ea877d2"
      },
      "execution_count": null,
      "outputs": [
        {
          "output_type": "execute_result",
          "data": {
            "text/plain": [
              "(array([2976., 1732., 1099.,  813.,  548.,  506.,  338.,  293.,  237.,\n",
              "         237.]),\n",
              " array([10., 14., 18., 22., 26., 30., 34., 38., 42., 46., 50.]),\n",
              " <BarContainer object of 10 artists>)"
            ]
          },
          "metadata": {},
          "execution_count": 66
        },
        {
          "output_type": "display_data",
          "data": {
            "text/plain": [
              "<Figure size 640x480 with 1 Axes>"
            ],
            "image/png": "[encoded data removed]"
          },
          "metadata": {}
        }
      ]
    },
    {
      "cell_type": "code",
      "source": [
        "result[[\"replies\", \"likes\", \"retweets\"]].plot.hist(alpha=0.4, range = [10, 50])"
      ],
      "metadata": {
        "colab": {
          "base_uri": "https://localhost:8080/",
          "height": 448
        },
        "id": "MKhD9lNp3FZI",
        "outputId": "dc5e46c6-4431-4a03-eecd-158db211449f"
      },
      "execution_count": null,
      "outputs": [
        {
          "output_type": "execute_result",
          "data": {
            "text/plain": [
              "<Axes: ylabel='Frequency'>"
            ]
          },
          "metadata": {},
          "execution_count": 68
        },
        {
          "output_type": "display_data",
          "data": {
            "text/plain": [
              "<Figure size 640x480 with 1 Axes>"
            ],
            "image/png": "[encoded data removed]"
          },
          "metadata": {}
        }
      ]
    }
  ]
}