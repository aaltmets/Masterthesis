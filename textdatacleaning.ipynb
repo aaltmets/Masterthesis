{
  "nbformat": 4,
  "nbformat_minor": 0,
  "metadata": {
    "colab": {
      "provenance": [],
      "authorship_tag": "ABX9TyMh+8J/YuF9REQggBOlGRJg",
      "include_colab_link": true
    },
    "kernelspec": {
      "name": "python3",
      "display_name": "Python 3"
    },
    "language_info": {
      "name": "python"
    }
  },
  "cells": [
    {
      "cell_type": "markdown",
      "metadata": {
        "id": "view-in-github",
        "colab_type": "text"
      },
      "source": [
        "<a href=\"https://colab.research.google.com/github/aaltmets/Masterthesis/blob/main/textdatacleaning.ipynb\" target=\"_parent\"><img src=\"https://colab.research.google.com/assets/colab-badge.svg\" alt=\"Open In Colab\"/></a>"
      ]
    },
    {
      "cell_type": "code",
      "execution_count": null,
      "metadata": {
        "id": "sre0OY91Y9cS"
      },
      "outputs": [],
      "source": [
        "import pandas as pd\n",
        "import re"
      ]
    },
    {
      "cell_type": "code",
      "source": [
        "df = pd.read_csv('you_file.csv')\n",
        "pd.set_option('display.max_columns', None)"
      ],
      "metadata": {
        "colab": {
          "base_uri": "https://localhost:8080/"
        },
        "id": "do8dK0irZfn2",
        "outputId": "d48f6b42-215d-4bd2-e786-04f92b671965"
      },
      "execution_count": null,
      "outputs": [
        {
          "output_type": "stream",
          "name": "stderr",
          "text": [
            "<ipython-input-3-d545a254820d>:1: DtypeWarning: Columns (6,24,27) have mixed types. Specify dtype option on import or set low_memory=False.\n",
            "  df = pd.read_csv('all_no_bots.csv')\n"
          ]
        }
      ]
    },
    {
      "cell_type": "code",
      "source": [
        "df[\"text\"]= df[\"text\"].astype(str)"
      ],
      "metadata": {
        "id": "15TFgwuydRNO"
      },
      "execution_count": null,
      "outputs": []
    },
    {
      "cell_type": "code",
      "source": [
        "#define a regular expression pattern \n",
        "pattern = re.compile(r'#\\w+')\n",
        "\n",
        "#create a column for hashtags \n",
        "df['hashtags'] = df['text'].apply(lambda x: pattern.findall(x))\n",
        "\n",
        "#print the new dataframe "
      ],
      "metadata": {
        "id": "NztNvfoleF5b"
      },
      "execution_count": null,
      "outputs": []
    },
    {
      "cell_type": "code",
      "source": [
        "#remove hashtags from text \n",
        "def remove_hashtags(text):\n",
        "    hashtag_pattern = re.compile(r'#\\w+')\n",
        "    return hashtag_pattern.sub(r'', text)\n",
        "\n",
        "df['text'] = df['text'].apply(remove_hashtags)\n",
        "\n"
      ],
      "metadata": {
        "id": "Cu-oaT4ca2TO"
      },
      "execution_count": null,
      "outputs": []
    },
    {
      "cell_type": "code",
      "source": [
        "#remove URLS from text \n",
        "def remove_urls(text):\n",
        "    url_pattern = re.compile(r'https?://\\S+|www\\.\\S+')\n",
        "    return url_pattern.sub(r'', text)\n",
        "\n",
        "df['text'] = df['text'].apply(remove_urls)"
      ],
      "metadata": {
        "id": "f_v5xQaYeIoL"
      },
      "execution_count": null,
      "outputs": []
    },
    {
      "cell_type": "code",
      "source": [
        "#remove mentions \n",
        "\n",
        "def remove_mentions(text):\n",
        "    mention_pattern = re.compile(r'@[A-Za-z0-9]+')\n",
        "    return mention_pattern.sub(r'', text)\n",
        "\n",
        "\n",
        "\n",
        "df['text'] = df['text'].apply(remove_mentions)"
      ],
      "metadata": {
        "id": "fdGIIrgJeKoV"
      },
      "execution_count": null,
      "outputs": []
    },
    {
      "cell_type": "code",
      "source": [
        "#remove special characters \n",
        "def remove_special_chars(text):\n",
        "    special_char_pattern = re.compile(r'[^a-zA-Z0-9\\s]')\n",
        "    return special_char_pattern.sub(r'', text)\n",
        "\n",
        "\n",
        "df['text'] = df['text'].apply(remove_special_chars)"
      ],
      "metadata": {
        "id": "h14cOk4LeMwu"
      },
      "execution_count": null,
      "outputs": []
    },
    {
      "cell_type": "code",
      "source": [
        "def remove_special_signs(text):\n",
        "    remove_special_signs = re.compile(r'\\'')\n",
        "    return remove_special_signs.sub(r'', text)\n",
        "\n",
        "\n",
        "df['text'] = df['text'].apply(remove_special_signs)"
      ],
      "metadata": {
        "id": "xVhDrA34eOps"
      },
      "execution_count": null,
      "outputs": []
    },
    {
      "cell_type": "code",
      "source": [
        "#Remove stopwords \n",
        "\n",
        "import nltk\n",
        "nltk.download('stopwords')\n",
        "\n",
        "from nltk.corpus import stopwords\n",
        "\n",
        "stop_words = set(stopwords.words('english'))\n",
        "\n",
        "def remove_stopwords(text):\n",
        "    tokens = text.split()\n",
        "    filtered_tokens = [word for word in tokens if word.lower() not in stop_words]\n",
        "    filtered_text = ' '.join(filtered_tokens)\n",
        "    return filtered_text\n",
        "\n",
        "\n",
        "df['text'] = df['text'].apply(remove_stopwords)"
      ],
      "metadata": {
        "id": "NpuslTzGeSDx"
      },
      "execution_count": null,
      "outputs": []
    },
    {
      "cell_type": "code",
      "source": [
        "#Tokenize data \n",
        "\n",
        "# first change words to lower_case \n",
        "df[\"text\"]= df[\"text\"].astype(str)\n",
        "\n",
        "df['text'] = df['text'].apply(lambda x: x.lower())\n",
        "\n",
        "df['text'] = df['text'].apply(lambda x: x.split())"
      ],
      "metadata": {
        "id": "HULrrXZMInip"
      },
      "execution_count": null,
      "outputs": []
    },
    {
      "cell_type": "code",
      "source": [
        "df.to_csv('cleantext.csv')"
      ],
      "metadata": {
        "id": "vv7yejnvsig0"
      },
      "execution_count": null,
      "outputs": []
    },
    {
      "cell_type": "code",
      "source": [
        "df = pd.read_csv('cleantext.csv')"
      ],
      "metadata": {
        "colab": {
          "base_uri": "https://localhost:8080/"
        },
        "id": "rhiOwHUoaPqc",
        "outputId": "e7eabb6f-bb10-40ee-8ce9-d6c828cfecee"
      },
      "execution_count": null,
      "outputs": [
        {
          "output_type": "stream",
          "name": "stderr",
          "text": [
            "<ipython-input-3-740e7344c2e9>:1: DtypeWarning: Columns (7,25,28) have mixed types. Specify dtype option on import or set low_memory=False.\n",
            "  df = pd.read_csv('cleantext.csv')\n"
          ]
        }
      ]
    },
    {
      "cell_type": "code",
      "source": [
        "df.shape"
      ],
      "metadata": {
        "colab": {
          "base_uri": "https://localhost:8080/"
        },
        "id": "tZvfJJUuaUaB",
        "outputId": "4234b7d4-8368-4cda-beed-0f641384b227"
      },
      "execution_count": null,
      "outputs": [
        {
          "output_type": "execute_result",
          "data": {
            "text/plain": [
              "(126942, 33)"
            ]
          },
          "metadata": {},
          "execution_count": 6
        }
      ]
    },
    {
      "cell_type": "code",
      "source": [
        "df = df.drop_duplicates(subset=['text'])"
      ],
      "metadata": {
        "id": "jBCEpAUtaVtq"
      },
      "execution_count": null,
      "outputs": []
    },
    {
      "cell_type": "code",
      "source": [
        "df.shape"
      ],
      "metadata": {
        "colab": {
          "base_uri": "https://localhost:8080/"
        },
        "id": "Z_N2NTFsaszk",
        "outputId": "c2bdb469-01e7-4c95-d64b-a1790d915a1f"
      },
      "execution_count": null,
      "outputs": [
        {
          "output_type": "execute_result",
          "data": {
            "text/plain": [
              "(119594, 33)"
            ]
          },
          "metadata": {},
          "execution_count": 11
        }
      ]
    },
    {
      "cell_type": "code",
      "source": [
        "df.to_csv('cleantext.csv')"
      ],
      "metadata": {
        "id": "5zZqzCXbcxlF"
      },
      "execution_count": null,
      "outputs": []
    },
    {
      "cell_type": "code",
      "source": [
        "grouped_data = df.groupby('bot').agg({'author_id': 'nunique', 'tweet_id': 'count'})"
      ],
      "metadata": {
        "id": "3VJoM2MtdwmF"
      },
      "execution_count": null,
      "outputs": []
    },
    {
      "cell_type": "code",
      "source": [
        "grouped_data"
      ],
      "metadata": {
        "id": "wXEcB5YcdyBC",
        "outputId": "61500ae0-2838-4488-9d31-37156b99b4eb",
        "colab": {
          "base_uri": "https://localhost:8080/",
          "height": 112
        }
      },
      "execution_count": null,
      "outputs": [
        {
          "output_type": "execute_result",
          "data": {
            "text/plain": [
              "         author_id  tweet_id\n",
              "bot                         \n",
              "not_bot      81238    119594"
            ],
            "text/html": [
              "\n",
              "  <div id=\"df-6cd8f44e-4c8a-46b1-8b32-d25b0a87d3a8\">\n",
              "    <div class=\"colab-df-container\">\n",
              "      <div>\n",
              "<style scoped>\n",
              "    .dataframe tbody tr th:only-of-type {\n",
              "        vertical-align: middle;\n",
              "    }\n",
              "\n",
              "    .dataframe tbody tr th {\n",
              "        vertical-align: top;\n",
              "    }\n",
              "\n",
              "    .dataframe thead th {\n",
              "        text-align: right;\n",
              "    }\n",
              "</style>\n",
              "<table border=\"1\" class=\"dataframe\">\n",
              "  <thead>\n",
              "    <tr style=\"text-align: right;\">\n",
              "      <th></th>\n",
              "      <th>author_id</th>\n",
              "      <th>tweet_id</th>\n",
              "    </tr>\n",
              "    <tr>\n",
              "      <th>bot</th>\n",
              "      <th></th>\n",
              "      <th></th>\n",
              "    </tr>\n",
              "  </thead>\n",
              "  <tbody>\n",
              "    <tr>\n",
              "      <th>not_bot</th>\n",
              "      <td>81238</td>\n",
              "      <td>119594</td>\n",
              "    </tr>\n",
              "  </tbody>\n",
              "</table>\n",
              "</div>\n",
              "      <button class=\"colab-df-convert\" onclick=\"convertToInteractive('df-6cd8f44e-4c8a-46b1-8b32-d25b0a87d3a8')\"\n",
              "              title=\"Convert this dataframe to an interactive table.\"\n",
              "              style=\"display:none;\">\n",
              "        \n",
              "  <svg xmlns=\"http://www.w3.org/2000/svg\" height=\"24px\"viewBox=\"0 0 24 24\"\n",
              "       width=\"24px\">\n",
              "    <path d=\"M0 0h24v24H0V0z\" fill=\"none\"/>\n",
              "    <path d=\"M18.56 5.44l.94 2.06.94-2.06 2.06-.94-2.06-.94-.94-2.06-.94 2.06-2.06.94zm-11 1L8.5 8.5l.94-2.06 2.06-.94-2.06-.94L8.5 2.5l-.94 2.06-2.06.94zm10 10l.94 2.06.94-2.06 2.06-.94-2.06-.94-.94-2.06-.94 2.06-2.06.94z\"/><path d=\"M17.41 7.96l-1.37-1.37c-.4-.4-.92-.59-1.43-.59-.52 0-1.04.2-1.43.59L10.3 9.45l-7.72 7.72c-.78.78-.78 2.05 0 2.83L4 21.41c.39.39.9.59 1.41.59.51 0 1.02-.2 1.41-.59l7.78-7.78 2.81-2.81c.8-.78.8-2.07 0-2.86zM5.41 20L4 18.59l7.72-7.72 1.47 1.35L5.41 20z\"/>\n",
              "  </svg>\n",
              "      </button>\n",
              "      \n",
              "  <style>\n",
              "    .colab-df-container {\n",
              "      display:flex;\n",
              "      flex-wrap:wrap;\n",
              "      gap: 12px;\n",
              "    }\n",
              "\n",
              "    .colab-df-convert {\n",
              "      background-color: #E8F0FE;\n",
              "      border: none;\n",
              "      border-radius: 50%;\n",
              "      cursor: pointer;\n",
              "      display: none;\n",
              "      fill: #1967D2;\n",
              "      height: 32px;\n",
              "      padding: 0 0 0 0;\n",
              "      width: 32px;\n",
              "    }\n",
              "\n",
              "    .colab-df-convert:hover {\n",
              "      background-color: #E2EBFA;\n",
              "      box-shadow: 0px 1px 2px rgba(60, 64, 67, 0.3), 0px 1px 3px 1px rgba(60, 64, 67, 0.15);\n",
              "      fill: #174EA6;\n",
              "    }\n",
              "\n",
              "    [theme=dark] .colab-df-convert {\n",
              "      background-color: #3B4455;\n",
              "      fill: #D2E3FC;\n",
              "    }\n",
              "\n",
              "    [theme=dark] .colab-df-convert:hover {\n",
              "      background-color: #434B5C;\n",
              "      box-shadow: 0px 1px 3px 1px rgba(0, 0, 0, 0.15);\n",
              "      filter: drop-shadow(0px 1px 2px rgba(0, 0, 0, 0.3));\n",
              "      fill: #FFFFFF;\n",
              "    }\n",
              "  </style>\n",
              "\n",
              "      <script>\n",
              "        const buttonEl =\n",
              "          document.querySelector('#df-6cd8f44e-4c8a-46b1-8b32-d25b0a87d3a8 button.colab-df-convert');\n",
              "        buttonEl.style.display =\n",
              "          google.colab.kernel.accessAllowed ? 'block' : 'none';\n",
              "\n",
              "        async function convertToInteractive(key) {\n",
              "          const element = document.querySelector('#df-6cd8f44e-4c8a-46b1-8b32-d25b0a87d3a8');\n",
              "          const dataTable =\n",
              "            await google.colab.kernel.invokeFunction('convertToInteractive',\n",
              "                                                     [key], {});\n",
              "          if (!dataTable) return;\n",
              "\n",
              "          const docLinkHtml = 'Like what you see? Visit the ' +\n",
              "            '<a target=\"_blank\" href=https://colab.research.google.com/notebooks/data_table.ipynb>data table notebook</a>'\n",
              "            + ' to learn more about interactive tables.';\n",
              "          element.innerHTML = '';\n",
              "          dataTable['output_type'] = 'display_data';\n",
              "          await google.colab.output.renderOutput(dataTable, element);\n",
              "          const docLink = document.createElement('div');\n",
              "          docLink.innerHTML = docLinkHtml;\n",
              "          element.appendChild(docLink);\n",
              "        }\n",
              "      </script>\n",
              "    </div>\n",
              "  </div>\n",
              "  "
            ]
          },
          "metadata": {},
          "execution_count": 15
        }
      ]
    }
  ]
}